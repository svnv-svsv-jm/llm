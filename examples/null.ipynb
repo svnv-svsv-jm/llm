{
 "cells": [
  {
   "cell_type": "code",
   "execution_count": 1,
   "metadata": {
    "execution": {
     "iopub.execute_input": "2025-01-03T15:54:12.285562Z",
     "iopub.status.busy": "2025-01-03T15:54:12.285345Z",
     "iopub.status.idle": "2025-01-03T15:54:12.299408Z",
     "shell.execute_reply": "2025-01-03T15:54:12.298941Z"
    }
   },
   "outputs": [],
   "source": [
    "%load_ext autoreload\n",
    "%autoreload 2"
   ]
  }
 ],
 "metadata": {
  "language_info": {
   "codemirror_mode": {
    "name": "ipython",
    "version": 3
   },
   "file_extension": ".py",
   "mimetype": "text/x-python",
   "name": "python",
   "nbconvert_exporter": "python",
   "pygments_lexer": "ipython3",
   "version": "3.12.7"
  }
 },
 "nbformat": 4,
 "nbformat_minor": 2
}
